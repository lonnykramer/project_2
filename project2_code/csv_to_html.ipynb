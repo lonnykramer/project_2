{
 "cells": [
  {
   "cell_type": "code",
   "execution_count": 5,
   "metadata": {},
   "outputs": [],
   "source": [
    "import pandas as pd"
   ]
  },
  {
   "cell_type": "code",
   "execution_count": 11,
   "metadata": {},
   "outputs": [],
   "source": [
    "file_to_load = \"pollutants_csv.csv\""
   ]
  },
  {
   "cell_type": "code",
   "execution_count": 12,
   "metadata": {},
   "outputs": [],
   "source": [
    "pollution = pd.read_csv(file_to_load)"
   ]
  },
  {
   "cell_type": "code",
   "execution_count": 13,
   "metadata": {},
   "outputs": [
    {
     "data": {
      "text/html": [
       "<div>\n",
       "<style scoped>\n",
       "    .dataframe tbody tr th:only-of-type {\n",
       "        vertical-align: middle;\n",
       "    }\n",
       "\n",
       "    .dataframe tbody tr th {\n",
       "        vertical-align: top;\n",
       "    }\n",
       "\n",
       "    .dataframe thead th {\n",
       "        text-align: right;\n",
       "    }\n",
       "</style>\n",
       "<table border=\"1\" class=\"dataframe\">\n",
       "  <thead>\n",
       "    <tr style=\"text-align: right;\">\n",
       "      <th></th>\n",
       "      <th>location</th>\n",
       "      <th>city</th>\n",
       "      <th>country</th>\n",
       "      <th>utc</th>\n",
       "      <th>local</th>\n",
       "      <th>parameter</th>\n",
       "      <th>value</th>\n",
       "      <th>unit</th>\n",
       "      <th>latitude</th>\n",
       "      <th>longitude</th>\n",
       "      <th>attribution</th>\n",
       "    </tr>\n",
       "  </thead>\n",
       "  <tbody>\n",
       "    <tr>\n",
       "      <th>0</th>\n",
       "      <td>Ladue</td>\n",
       "      <td>St. Louis</td>\n",
       "      <td>US</td>\n",
       "      <td>2019-11-09T18:00:00.000Z</td>\n",
       "      <td>2019-11-09T12:00:00-06:00</td>\n",
       "      <td>pm25</td>\n",
       "      <td>3.300</td>\n",
       "      <td>µg/m³</td>\n",
       "      <td>38.650259</td>\n",
       "      <td>-90.350463</td>\n",
       "      <td>[{\"name\":\"US EPA AirNow\",\"url\":\"http://www.air...</td>\n",
       "    </tr>\n",
       "    <tr>\n",
       "      <th>1</th>\n",
       "      <td>BLAIR STREET</td>\n",
       "      <td>St. Louis</td>\n",
       "      <td>US</td>\n",
       "      <td>2019-11-09T18:00:00.000Z</td>\n",
       "      <td>2019-11-09T12:00:00-06:00</td>\n",
       "      <td>o3</td>\n",
       "      <td>0.031</td>\n",
       "      <td>ppm</td>\n",
       "      <td>38.656449</td>\n",
       "      <td>-90.198548</td>\n",
       "      <td>[{\"name\":\"US EPA AirNow\",\"url\":\"http://www.air...</td>\n",
       "    </tr>\n",
       "    <tr>\n",
       "      <th>2</th>\n",
       "      <td>BLAIR STREET</td>\n",
       "      <td>St. Louis</td>\n",
       "      <td>US</td>\n",
       "      <td>2019-11-09T18:00:00.000Z</td>\n",
       "      <td>2019-11-09T12:00:00-06:00</td>\n",
       "      <td>no2</td>\n",
       "      <td>0.004</td>\n",
       "      <td>ppm</td>\n",
       "      <td>38.656449</td>\n",
       "      <td>-90.198548</td>\n",
       "      <td>[{\"name\":\"US EPA AirNow\",\"url\":\"http://www.air...</td>\n",
       "    </tr>\n",
       "    <tr>\n",
       "      <th>3</th>\n",
       "      <td>Forest Park</td>\n",
       "      <td>St. Louis</td>\n",
       "      <td>US</td>\n",
       "      <td>2019-11-09T18:00:00.000Z</td>\n",
       "      <td>2019-11-09T12:00:00-06:00</td>\n",
       "      <td>co</td>\n",
       "      <td>0.260</td>\n",
       "      <td>ppm</td>\n",
       "      <td>38.631057</td>\n",
       "      <td>-90.281144</td>\n",
       "      <td>[{\"name\":\"US EPA AirNow\",\"url\":\"http://www.air...</td>\n",
       "    </tr>\n",
       "    <tr>\n",
       "      <th>4</th>\n",
       "      <td>BLAIR STREET</td>\n",
       "      <td>St. Louis</td>\n",
       "      <td>US</td>\n",
       "      <td>2019-11-09T18:00:00.000Z</td>\n",
       "      <td>2019-11-09T12:00:00-06:00</td>\n",
       "      <td>pm25</td>\n",
       "      <td>16.200</td>\n",
       "      <td>µg/m³</td>\n",
       "      <td>38.656449</td>\n",
       "      <td>-90.198548</td>\n",
       "      <td>[{\"name\":\"US EPA AirNow\",\"url\":\"http://www.air...</td>\n",
       "    </tr>\n",
       "  </tbody>\n",
       "</table>\n",
       "</div>"
      ],
      "text/plain": [
       "       location       city country                       utc  \\\n",
       "0         Ladue  St. Louis      US  2019-11-09T18:00:00.000Z   \n",
       "1  BLAIR STREET  St. Louis      US  2019-11-09T18:00:00.000Z   \n",
       "2  BLAIR STREET  St. Louis      US  2019-11-09T18:00:00.000Z   \n",
       "3   Forest Park  St. Louis      US  2019-11-09T18:00:00.000Z   \n",
       "4  BLAIR STREET  St. Louis      US  2019-11-09T18:00:00.000Z   \n",
       "\n",
       "                       local parameter   value   unit   latitude  longitude  \\\n",
       "0  2019-11-09T12:00:00-06:00      pm25   3.300  µg/m³  38.650259 -90.350463   \n",
       "1  2019-11-09T12:00:00-06:00        o3   0.031    ppm  38.656449 -90.198548   \n",
       "2  2019-11-09T12:00:00-06:00       no2   0.004    ppm  38.656449 -90.198548   \n",
       "3  2019-11-09T12:00:00-06:00        co   0.260    ppm  38.631057 -90.281144   \n",
       "4  2019-11-09T12:00:00-06:00      pm25  16.200  µg/m³  38.656449 -90.198548   \n",
       "\n",
       "                                         attribution  \n",
       "0  [{\"name\":\"US EPA AirNow\",\"url\":\"http://www.air...  \n",
       "1  [{\"name\":\"US EPA AirNow\",\"url\":\"http://www.air...  \n",
       "2  [{\"name\":\"US EPA AirNow\",\"url\":\"http://www.air...  \n",
       "3  [{\"name\":\"US EPA AirNow\",\"url\":\"http://www.air...  \n",
       "4  [{\"name\":\"US EPA AirNow\",\"url\":\"http://www.air...  "
      ]
     },
     "execution_count": 13,
     "metadata": {},
     "output_type": "execute_result"
    }
   ],
   "source": [
    "pollutants_df = pd.DataFrame(pollution) \n",
    "pollutants_df.head()"
   ]
  },
  {
   "cell_type": "code",
   "execution_count": 15,
   "metadata": {},
   "outputs": [],
   "source": [
    "pollutants_df.to_html('pollutants.html')\n",
    "\n",
    "#df.to_html('filename.html')"
   ]
  },
  {
   "cell_type": "code",
   "execution_count": null,
   "metadata": {},
   "outputs": [],
   "source": []
  }
 ],
 "metadata": {
  "kernelspec": {
   "display_name": "Python 3",
   "language": "python",
   "name": "python3"
  },
  "language_info": {
   "codemirror_mode": {
    "name": "ipython",
    "version": 3
   },
   "file_extension": ".py",
   "mimetype": "text/x-python",
   "name": "python",
   "nbconvert_exporter": "python",
   "pygments_lexer": "ipython3",
   "version": "3.7.3"
  }
 },
 "nbformat": 4,
 "nbformat_minor": 2
}
